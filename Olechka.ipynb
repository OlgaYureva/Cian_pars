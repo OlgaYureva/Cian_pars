{
 "cells": [
  {
   "cell_type": "markdown",
   "metadata": {},
   "source": [
    "# CIAN.ru"
   ]
  },
  {
   "cell_type": "code",
   "execution_count": 1,
   "metadata": {
    "collapsed": true
   },
   "outputs": [],
   "source": [
    "import requests\n",
    "import re\n",
    "from bs4 import BeautifulSoup\n",
    "import pandas as pd\n",
    "import time"
   ]
  },
  {
   "cell_type": "code",
   "execution_count": 2,
   "metadata": {
    "collapsed": true
   },
   "outputs": [],
   "source": [
    "def html_stripper(text):\n",
    "    return re.sub('<[^<]+?>', '', str(text))"
   ]
  },
  {
   "cell_type": "markdown",
   "metadata": {},
   "source": [
    "### Для ЦАО находим главную ссылку и в ней находим **&p=1&**, это и есть переход по страницам"
   ]
  },
  {
   "cell_type": "code",
   "execution_count": 3,
   "metadata": {
    "collapsed": false
   },
   "outputs": [],
   "source": [
    "CAO = 'http://www.cian.ru/cat.php?deal_type=sale&district%5B0%5D=13&district%5B1%5D=14&district%5B2%5D=15&district%5B3%5D=16&district%5B4%5D=17&district%5B5%5D=18&district%5B6%5D=19&district%5B7%5D=20&district%5B8%5D=21&district%5B9%5D=22&engine_version=2&offer_type=flat&p={}&room1=1&room2=1&room3=1&room4=1&room5=1&room6=1'\n",
    "SAO = 'http://www.cian.ru/cat.php?deal_type=sale&district%5B0%5D=23&district%5B10%5D=33&district%5B11%5D=34&district%5B12%5D=35&district%5B13%5D=36&district%5B14%5D=37&district%5B15%5D=38&district%5B1%5D=24&district%5B2%5D=25&district%5B3%5D=26&district%5B4%5D=27&district%5B5%5D=28&district%5B6%5D=29&district%5B7%5D=30&district%5B8%5D=31&district%5B9%5D=32&engine_version=2&offer_type=flat&room1=1&room2=1'\n",
    "SVAO = 'http://www.cian.ru/cat.php?deal_type=sale&district%5B0%5D=39&district%5B10%5D=49&district%5B11%5D=50&district%5B12%5D=51&district%5B13%5D=52&district%5B14%5D=53&district%5B15%5D=54&district%5B16%5D=55&district%5B1%5D=40&district%5B2%5D=41&district%5B3%5D=42&district%5B4%5D=43&district%5B5%5D=44&district%5B6%5D=45&district%5B7%5D=46&district%5B8%5D=47&district%5B9%5D=48&engine_version=2&offer_type=flat&room1=1&room2=1'\n",
    "VAO = 'http://www.cian.ru/cat.php?deal_type=sale&district%5B0%5D=56&district%5B10%5D=66&district%5B11%5D=67&district%5B12%5D=68&district%5B13%5D=69&district%5B14%5D=70&district%5B15%5D=71&district%5B1%5D=57&district%5B2%5D=58&district%5B3%5D=59&district%5B4%5D=60&district%5B5%5D=61&district%5B6%5D=62&district%5B7%5D=63&district%5B8%5D=64&district%5B9%5D=65&engine_version=2&offer_type=flat&room1=1&room2=1'\n",
    "UVAO = 'http://www.cian.ru/cat.php?deal_type=sale&district%5B0%5D=72&district%5B10%5D=82&district%5B11%5D=83&district%5B1%5D=73&district%5B2%5D=74&district%5B3%5D=75&district%5B4%5D=76&district%5B5%5D=77&district%5B6%5D=78&district%5B7%5D=79&district%5B8%5D=80&district%5B9%5D=81&engine_version=2&offer_type=flat&room1=1&room2=1'\n",
    "UAO = 'http://www.cian.ru/cat.php?deal_type=sale&district%5B0%5D=84&district%5B10%5D=94&district%5B11%5D=95&district%5B12%5D=96&district%5B13%5D=97&district%5B14%5D=98&district%5B15%5D=99&district%5B1%5D=85&district%5B2%5D=86&district%5B3%5D=87&district%5B4%5D=88&district%5B5%5D=89&district%5B6%5D=90&district%5B7%5D=91&district%5B8%5D=92&district%5B9%5D=93&engine_version=2&offer_type=flat&room1=1&room2=1'\n",
    "UZAO = 'http://www.cian.ru/cat.php?deal_type=sale&district%5B0%5D=100&district%5B10%5D=110&district%5B11%5D=111&district%5B1%5D=101&district%5B2%5D=102&district%5B3%5D=103&district%5B4%5D=104&district%5B5%5D=105&district%5B6%5D=106&district%5B7%5D=107&district%5B8%5D=108&district%5B9%5D=109&engine_version=2&offer_type=flat&room1=1&room2=1'\n",
    "ZAO = 'http://www.cian.ru/cat.php?deal_type=sale&district%5B0%5D=112&district%5B10%5D=122&district%5B11%5D=123&district%5B12%5D=124&district%5B13%5D=348&district%5B14%5D=349&district%5B15%5D=350&district%5B1%5D=113&district%5B2%5D=114&district%5B3%5D=115&district%5B4%5D=116&district%5B5%5D=117&district%5B6%5D=118&district%5B7%5D=119&district%5B8%5D=120&district%5B9%5D=121&engine_version=2&offer_type=flat&room1=1&room2=1'\n",
    "SZAO = 'http://www.cian.ru/cat.php?deal_type=sale&district%5B0%5D=125&district%5B1%5D=126&district%5B2%5D=127&district%5B3%5D=128&district%5B4%5D=129&district%5B5%5D=130&district%5B6%5D=131&district%5B7%5D=132&engine_version=2&offer_type=flat&room1=1&room2=1'\n",
    "ZelAO = 'http://www.cian.ru/cat.php?deal_type=sale&district%5B0%5D=152&district%5B1%5D=153&district%5B2%5D=154&district%5B3%5D=355&district%5B4%5D=356&district%5B5%5D=357&district%5B6%5D=358&engine_version=2&offer_type=flat&room1=1&room2=1'\n",
    "NAO = 'http://www.cian.ru/cat.php?deal_type=sale&district%5B0%5D=327&district%5B10%5D=337&district%5B1%5D=328&district%5B2%5D=329&district%5B3%5D=330&district%5B4%5D=331&district%5B5%5D=332&district%5B6%5D=333&district%5B7%5D=334&district%5B8%5D=335&district%5B9%5D=336&engine_version=2&offer_type=flat&room1=1&room2=1'\n",
    "TAO = 'http://www.cian.ru/cat.php?deal_type=sale&district%5B0%5D=338&district%5B1%5D=339&district%5B2%5D=340&district%5B3%5D=341&district%5B4%5D=342&district%5B5%5D=343&district%5B6%5D=344&district%5B7%5D=345&district%5B8%5D=346&district%5B9%5D=347&engine_version=2&offer_type=flat&room1=1&room2=1'\n",
    "districts = [CAO,SAO,SVAO,VAO,UVAO,UAO,UZAO,ZAO,SZAO, ZelAO,NAO,TAO ]"
   ]
  },
  {
   "cell_type": "markdown",
   "metadata": {},
   "source": [
    "### Гуляем по страницам и качаем с них все ссылки на наши квартирки"
   ]
  },
  {
   "cell_type": "code",
   "execution_count": 4,
   "metadata": {
    "collapsed": false
   },
   "outputs": [],
   "source": [
    "links = []\n",
    "for district in districts:\n",
    "    for page in range(1, 30):\n",
    "        page_url =  district.format(page)\n",
    "\n",
    "        search_page = requests.get(page_url)\n",
    "        search_page = search_page.content\n",
    "        search_page = BeautifulSoup(search_page, 'lxml')\n",
    "\n",
    "        flat_urls = search_page.findAll('div', attrs = {'ng-class':\"{'serp-item_removed': offer.remove.state, 'serp-item_popup-opened': isPopupOpen}\"})\n",
    "        flat_urls = re.split('http://www.cian.ru/sale/flat/|/\" ng-class=\"', str(flat_urls))\n",
    "\n",
    "        for link in flat_urls:\n",
    "            if link.isdigit():\n",
    "                links.append(link)"
   ]
  },
  {
   "cell_type": "code",
   "execution_count": 5,
   "metadata": {
    "collapsed": false
   },
   "outputs": [
    {
     "data": {
      "text/plain": [
       "8990"
      ]
     },
     "execution_count": 5,
     "metadata": {},
     "output_type": "execute_result"
    }
   ],
   "source": [
    "len(links)"
   ]
  },
  {
   "cell_type": "markdown",
   "metadata": {},
   "source": [
    "### Попробуем перейти на первую"
   ]
  },
  {
   "cell_type": "code",
   "execution_count": 6,
   "metadata": {
    "collapsed": false
   },
   "outputs": [],
   "source": [
    "flat_url = 'http://www.cian.ru/sale/flat/' + str(links[0]) + '/'\n",
    "#flat_url = 'http://www.cian.ru/sale/flat/150531912/' \n",
    "flat_page = requests.get(flat_url)\n",
    "flat_page = flat_page.content\n",
    "flat_page = BeautifulSoup(flat_page, 'lxml')\n",
    "flatStats = {'District':0}"
   ]
  },
  {
   "cell_type": "markdown",
   "metadata": {},
   "source": [
    "# Цена"
   ]
  },
  {
   "cell_type": "code",
   "execution_count": 7,
   "metadata": {
    "collapsed": true
   },
   "outputs": [],
   "source": [
    "def getPrice(flat_page):\n",
    "    price = flat_page.find('div', attrs={'class':'object_descr_price'})\n",
    "    price = re.split('<div>|руб|\\W', str(price))\n",
    "    price = \"\".join([i for i in price if i.isdigit()][-3:])\n",
    "    return int(price)"
   ]
  },
  {
   "cell_type": "markdown",
   "metadata": {},
   "source": [
    "# Координаты"
   ]
  },
  {
   "cell_type": "code",
   "execution_count": 8,
   "metadata": {
    "collapsed": true
   },
   "outputs": [],
   "source": [
    "def getCoords(flat_page):\n",
    "    coords = flat_page.find('div', attrs={'class':'map_info_button_extend'}).contents[1]\n",
    "    coords = re.split('&amp|center=|%2C', str(coords))\n",
    "    coords_list = []\n",
    "    for item in coords:\n",
    "        if item[0].isdigit():\n",
    "            coords_list.append(item)\n",
    "    lat = float(coords_list[0])\n",
    "    lon = float(coords_list[1])\n",
    "    return lat, lon"
   ]
  },
  {
   "cell_type": "markdown",
   "metadata": {},
   "source": [
    "# Число комнат"
   ]
  },
  {
   "cell_type": "code",
   "execution_count": 9,
   "metadata": {
    "collapsed": true
   },
   "outputs": [],
   "source": [
    "def getRoom(flat_page):\n",
    "    rooms = flat_page.find('div', attrs={'class':'object_descr_title'})\n",
    "    rooms = html_stripper(rooms)\n",
    "    room_number = ''\n",
    "    for i in re.split('-|\\n', rooms):\n",
    "        if 'комн' in i:\n",
    "            break\n",
    "        else:\n",
    "            room_number += i\n",
    "    room_number = \"\".join(room_number.split())\n",
    "    return room_number"
   ]
  },
  {
   "cell_type": "markdown",
   "metadata": {},
   "source": [
    "# Таблица"
   ]
  },
  {
   "cell_type": "code",
   "execution_count": 10,
   "metadata": {
    "collapsed": false
   },
   "outputs": [],
   "source": [
    "table = flat_page.find('table', attrs = {'class':'object_descr_props'})"
   ]
  },
  {
   "cell_type": "code",
   "execution_count": 11,
   "metadata": {
    "collapsed": false
   },
   "outputs": [],
   "source": [
    "table = html_stripper(table)"
   ]
  },
  {
   "cell_type": "markdown",
   "metadata": {},
   "source": [
    "# Общая площадь"
   ]
  },
  {
   "cell_type": "code",
   "execution_count": 12,
   "metadata": {
    "collapsed": true
   },
   "outputs": [],
   "source": [
    "def getTotsp(flat_page):\n",
    "    table = flat_page.find('table', attrs = {'class':'object_descr_props'})\n",
    "    table = html_stripper(table)\n",
    "    Totsp_n=re.split('Общая площадь|Площадь комнат', table)[1]\n",
    "    Totsp = ''\n",
    "    for i in re.split(':|\\xa0|-|\\n', Totsp_n):\n",
    "        if 'м2' in i:\n",
    "            break\n",
    "        else:\n",
    "            Totsp += i\n",
    "    Totsp = \"\".join(Totsp.split())\n",
    "    return Totsp "
   ]
  },
  {
   "cell_type": "markdown",
   "metadata": {},
   "source": [
    "# Жилая площадь"
   ]
  },
  {
   "cell_type": "code",
   "execution_count": 13,
   "metadata": {
    "collapsed": false
   },
   "outputs": [],
   "source": [
    "def getLivesp(flat_page):\n",
    "    table = flat_page.find('table', attrs = {'class':'object_descr_props'})\n",
    "    table = html_stripper(table)\n",
    "    Livesp_n=re.split('Жилая площадь|Площадь кухни', table)[1]\n",
    "    Livesp = ''\n",
    "    for i in re.split(':|\\xa0|-|\\n', Livesp_n):\n",
    "        if 'м2' in i:\n",
    "            break\n",
    "        else:\n",
    "            Livesp += i\n",
    "    Livesp = \"\".join(Livesp.split())\n",
    "    return Livesp"
   ]
  },
  {
   "cell_type": "markdown",
   "metadata": {},
   "source": [
    "# Площадь кухни"
   ]
  },
  {
   "cell_type": "code",
   "execution_count": 14,
   "metadata": {
    "collapsed": false
   },
   "outputs": [],
   "source": [
    "def getKitsp(flat_page):\n",
    "    table = flat_page.find('table', attrs = {'class':'object_descr_props'})\n",
    "    table = html_stripper(table)\n",
    "    Kitsp_n1=re.split('Площадь кухни|Совмещенных санузлов', table)[1]\n",
    "    Kitsp1 = ''\n",
    "    for i in re.split(':|\\xa0|-|\\n', Kitsp_n1):\n",
    "        if 'м2' in i:\n",
    "            break\n",
    "        else:\n",
    "            Kitsp1 += i\n",
    "    Kitsp1 = \"\".join(Kitsp1.split())\n",
    "    Kitsp_n2=re.split('Площадь кухни|Раздельных санузлов', table)[1]\n",
    "    Kitsp2 = ''\n",
    "    for i in re.split(':|\\xa0|-|\\n', Kitsp_n2):\n",
    "        if 'м2' in i:\n",
    "            break\n",
    "        else:\n",
    "            Kitsp2 += i\n",
    "    Kitsp2 = \"\".join(Kitsp2.split())\n",
    "    Kitsp_n3=re.split('Площадь кухни|Санузел', table)[1]\n",
    "    Kitsp3 = ''\n",
    "    for i in re.split(':|\\xa0|-|\\n', Kitsp_n3):\n",
    "        if 'м2' in i:\n",
    "            break\n",
    "        else:\n",
    "            Kitsp3 += i\n",
    "    Kitsp3 = \"\".join(Kitsp3.split())\n",
    "    if len(Kitsp1)<5:\n",
    "        Kitsp=Kitsp1\n",
    "    elif len(Kitsp3)<5:\n",
    "        Kitsp=Kitsp3\n",
    "    else:\n",
    "        Kitsp=Kitsp2  \n",
    "    return Kitsp "
   ]
  },
  {
   "cell_type": "markdown",
   "metadata": {},
   "source": [
    "# Количество этажей"
   ]
  },
  {
   "cell_type": "code",
   "execution_count": 15,
   "metadata": {
    "collapsed": false,
    "scrolled": false
   },
   "outputs": [],
   "source": [
    "def getNfloors(flat_page):    \n",
    "    table = flat_page.find('table', attrs = {'class':'object_descr_props'})\n",
    "    table = html_stripper(table)\n",
    "    Nfloors_n=re.split('Этаж|Тип дома', table)[1]\n",
    "    Nfloors1 = re.split(':|\\xa0|-', Nfloors_n)\n",
    "    L=Nfloors1[-1]\n",
    "    Nfloors3=re.split('\\n', L)\n",
    "    Nfloors=Nfloors3[0]\n",
    "    return Nfloors"
   ]
  },
  {
   "cell_type": "markdown",
   "metadata": {},
   "source": [
    "# Наличие балкона"
   ]
  },
  {
   "cell_type": "code",
   "execution_count": 16,
   "metadata": {
    "collapsed": false
   },
   "outputs": [],
   "source": [
    "def getBal(flat_page): \n",
    "    table = flat_page.find('table', attrs = {'class':'object_descr_props'}) \n",
    "    table = html_stripper(table) \n",
    "    Bal_n=re.split('Балкон|Лифт', table)[1] \n",
    "    Bal1=re.split(':|\\n', Bal_n)[2] \n",
    "    Bal1 \n",
    "    if Bal1=='нет': \n",
    "        Bal=0\n",
    "    elif len(Bal1)>1: \n",
    "        Bal=1    \n",
    "    else: \n",
    "        Bal=None \n",
    "    return Bal "
   ]
  },
  {
   "cell_type": "markdown",
   "metadata": {},
   "source": [
    "# Расстояние до метро в минутах"
   ]
  },
  {
   "cell_type": "code",
   "execution_count": 17,
   "metadata": {
    "collapsed": false
   },
   "outputs": [],
   "source": [
    "def getMetrdist(flat_page): \n",
    "    Metro = flat_page.find('div', attrs={'class':'object_descr_metro'}) \n",
    "    Metro = html_stripper(Metro) \n",
    "    Metr_dist = '' \n",
    "    for i in re.split('\\n|\\n', Metro): \n",
    "        if 'мин.' in i: \n",
    "            break \n",
    "        else: \n",
    "            Metr_dist = i \n",
    "    Metr_dist = \"\".join(Metr_dist.split()) \n",
    "    return Metr_dist "
   ]
  },
  {
   "cell_type": "markdown",
   "metadata": {},
   "source": [
    "# Пешком до метро или на транспорте"
   ]
  },
  {
   "cell_type": "code",
   "execution_count": 18,
   "metadata": {
    "collapsed": false,
    "scrolled": true
   },
   "outputs": [],
   "source": [
    "def getWalk (flat_page):   \n",
    "    Metro = flat_page.find('div', attrs={'class':'object_descr_metro'}) \n",
    "    Metro = html_stripper(Metro) \n",
    "    Metro1 = html_stripper(Metro)\n",
    "    Metro1\n",
    "    if len(re.split('\\n|\\n', Metro1))>=5:\n",
    "        N_n=re.split('\\n|\\n', Metro1)[-5]\n",
    "        if '                    пешком' == N_n: \n",
    "            Walk=1 \n",
    "        else: \n",
    "            Walk = 0\n",
    "    else:\n",
    "        Walk=None\n",
    "    return Walk"
   ]
  },
  {
   "cell_type": "markdown",
   "metadata": {},
   "source": [
    "# Материал строения"
   ]
  },
  {
   "cell_type": "code",
   "execution_count": 19,
   "metadata": {
    "collapsed": false
   },
   "outputs": [],
   "source": [
    "def getBrick(flat_page):  \n",
    "    table = flat_page.find('table', attrs = {'class':'object_descr_props'})\n",
    "    table = html_stripper(table)\n",
    "    New_n=re.split('Тип дома|Тип продажи', table)[1]\n",
    "    New1 = ''\n",
    "    for i in re.split(':|\\xa0|-|\\n', New_n):\n",
    "        if 'м2' in i:\n",
    "            break\n",
    "        else:\n",
    "            New1 += i\n",
    "    New1 = \"\".join(New1.split())\n",
    "    New_2=re.split(',', New1)\n",
    "    New_3=re.split('1|2|3|4|5|6|7|8|9|0|,', New1)\n",
    "    if (len(New_2)>=2) and (len(New_2)<=3):\n",
    "        Brick1 = New_2[1]\n",
    "        if Brick1=='монолит':\n",
    "            Brick=1\n",
    "        elif Brick1=='монолитный':\n",
    "            Brick=1\n",
    "        elif Brick1=='кирпичный':\n",
    "            Brick=1   \n",
    "        elif Brick1=='жб':\n",
    "            Brick=1\n",
    "        elif Brick1=='кирпичномонолитный':\n",
    "            Brick=1\n",
    "        elif New_3[1]=='монолитВысотапотолков':\n",
    "            Brick=1\n",
    "        elif New_3[1]=='монолитныйВысотапотолков':\n",
    "            Brick=1\n",
    "        elif New_3[1]=='кирпичныйВысотапотолков':\n",
    "            Brick=1   \n",
    "        elif New_3[1]=='жбВысотапотолков':\n",
    "            Brick=1\n",
    "        elif New_3[1]=='кирпичномонолитныйВысотапотолков':\n",
    "            Brick=1\n",
    "        else:\n",
    "            Brick=0\n",
    "    else:\n",
    "        Brick=None\n",
    "    return Brick"
   ]
  },
  {
   "cell_type": "markdown",
   "metadata": {},
   "source": [
    "# Первичный рынок/вторичка"
   ]
  },
  {
   "cell_type": "code",
   "execution_count": 20,
   "metadata": {
    "collapsed": false
   },
   "outputs": [],
   "source": [
    "def getNew(flat_page):  \n",
    "    table = flat_page.find('table', attrs = {'class':'object_descr_props'})\n",
    "    table = html_stripper(table)\n",
    "    New_n=re.split('Тип дома|Тип продажи', table)[1]\n",
    "    New1 = ''\n",
    "    for i in re.split(':|\\xa0|-|\\n', New_n):\n",
    "        if 'м2' in i:\n",
    "            break\n",
    "        else:\n",
    "            New1 += i\n",
    "    New1 = \"\".join(New1.split())\n",
    "    New_2=re.split(',', New1)\n",
    "    New3 =New_2[0]\n",
    "    if New3=='вторичка':\n",
    "        New=0\n",
    "    elif New3=='первичный рынок':\n",
    "        New=1\n",
    "    else:\n",
    "        New=None\n",
    "    return New"
   ]
  },
  {
   "cell_type": "markdown",
   "metadata": {},
   "source": [
    "# Телефон"
   ]
  },
  {
   "cell_type": "code",
   "execution_count": 21,
   "metadata": {
    "collapsed": true
   },
   "outputs": [],
   "source": [
    "def getTel(flat_page):  \n",
    "    table = flat_page.find('table', attrs = {'class':'object_descr_props'})\n",
    "    table = html_stripper(table)\n",
    "    Tel_n=re.split('Телефон|Вид из окна', table)[1]\n",
    "    Tel1=re.split(':|\\n', Tel_n)[2]\n",
    "    Tel1\n",
    "    if Tel1=='нет':\n",
    "        Tel=0\n",
    "    elif Tel1=='да':\n",
    "        Tel=1\n",
    "    elif Tel1=='есть':\n",
    "        Tel=1\n",
    "    elif len(Tel1)>1:\n",
    "        Tel=1\n",
    "    else:\n",
    "        Tel=None\n",
    "    return Tel"
   ]
  },
  {
   "cell_type": "markdown",
   "metadata": {},
   "source": [
    "# Номер этажа"
   ]
  },
  {
   "cell_type": "code",
   "execution_count": 22,
   "metadata": {
    "collapsed": true
   },
   "outputs": [],
   "source": [
    "def getFloor(flat_page):\n",
    "    table = flat_page.find('table', attrs = {'class':'object_descr_props'})\n",
    "    table = html_stripper(table)\n",
    "    Floor_n=re.split('Этаж|Тип дома', table)[1]\n",
    "    Floor = ''\n",
    "    for i in re.split(':|\\xa0|-|\\n', Floor_n):\n",
    "        if '/' in i:\n",
    "            break\n",
    "        else:\n",
    "            Floor += i\n",
    "    Floor = \"\".join(Floor.split())\n",
    "    return Floor "
   ]
  },
  {
   "cell_type": "markdown",
   "metadata": {},
   "source": [
    "# Расстояние от центра в км"
   ]
  },
  {
   "cell_type": "code",
   "execution_count": 23,
   "metadata": {
    "collapsed": false
   },
   "outputs": [],
   "source": [
    "import math \n",
    "from math import sqrt\n",
    "flatStats['lat'], flatStats['lon'] = getCoords(flat_page) \n",
    "x_cent = 37.609218 \n",
    "y_cent = 55.753559 \n",
    "gr_to_km = 6372.795/360.0 \n",
    "coordinates = (flatStats['lat'],flatStats['lon'])\n",
    "def dist(coordinates): \n",
    "    return(sqrt((coordinates[1]-x_cent)**2+(coordinates[0]-y_cent)**2)*gr_to_km) "
   ]
  },
  {
   "cell_type": "markdown",
   "metadata": {},
   "source": [
    "# Теперь делаем цикл и собираем все наши функции вместе"
   ]
  },
  {
   "cell_type": "code",
   "execution_count": 25,
   "metadata": {
    "collapsed": false
   },
   "outputs": [],
   "source": [
    "d = {}\n",
    "i = 0\n",
    "t=[]\n",
    "\n",
    "for j in range(0, len(links)):\n",
    "    t.append(links[j])\n",
    "for link in t:\n",
    "    flat_url = 'http://www.cian.ru/sale/flat/' + str(link) + '/' \n",
    "    flat_page = requests.get(flat_url) \n",
    "    flat_page = flat_page.content \n",
    "    flat_page = BeautifulSoup(flat_page, 'lxml')\n",
    "    flatStats = {'District':0} \n",
    "    flatStats['Rooms'] = getRoom(flat_page)\n",
    "    flatStats['Price'] = getPrice(flat_page) \n",
    "    flatStats['Totsp'] = getPrice(flat_page) \n",
    "    flatStats['lat'], flatStats['lon'] = getCoords(flat_page) \n",
    "    flatStats['Totsp'] = getTotsp(flat_page)\n",
    "    flatStats['Livesp'] = getLivesp(flat_page)\n",
    "    flatStats['Kitsp'] = getKitsp(flat_page)\n",
    "    flatStats['Floor'] = getFloor(flat_page)\n",
    "    flatStats['Nfloors'] = getNfloors(flat_page)\n",
    "    flatStats['Dist'] = dist(coordinates) \n",
    "    flatStats['Bal'] = getBal(flat_page)\n",
    "    flatStats['Tel'] = getTel(flat_page)\n",
    "    flatStats['New'] = getNew(flat_page)\n",
    "    flatStats['Brick'] = getBrick(flat_page)\n",
    "    flatStats['Metrdist'] = getMetrdist(flat_page)\n",
    "    flatStats['Walk'] = getWalk(flat_page)\n",
    "    flatStats['Livesp'] = getLivesp(flat_page)\n",
    "    flatStats['Kitsp'] = getKitsp(flat_page)\n",
    "    flatStats['Floor'] = getFloor(flat_page)\n",
    "    flatStats['Nfloors'] = getNfloors(flat_page)\n",
    "    flatStats['Dist'] = dist(coordinates) \n",
    "    flatStats['Bal'] = getBal(flat_page)\n",
    "    flatStats['Tel'] = getTel(flat_page)\n",
    "    flatStats['New'] = getNew(flat_page)\n",
    "    flatStats['Brick'] = getBrick(flat_page)\n",
    "    flatStats['Metrdist'] = getMetrdist(flat_page)\n",
    "    flatStats['Walk'] = getWalk(flat_page)\n",
    "    i+=1\n",
    "    flatStats['N'] = i\n",
    "    d[i] = flatStats"
   ]
  },
  {
   "cell_type": "code",
   "execution_count": 26,
   "metadata": {
    "collapsed": false
   },
   "outputs": [],
   "source": [
    "df =pd.DataFrame.from_dict(d,orient='index')\n",
    "df.to_csv('date_CIAN.csv')"
   ]
  },
  {
   "cell_type": "code",
   "execution_count": null,
   "metadata": {
    "collapsed": true
   },
   "outputs": [],
   "source": [
    " "
   ]
  }
 ],
 "metadata": {
  "anaconda-cloud": {},
  "kernelspec": {
   "display_name": "Python [conda root]",
   "language": "python",
   "name": "conda-root-py"
  },
  "language_info": {
   "codemirror_mode": {
    "name": "ipython",
    "version": 3
   },
   "file_extension": ".py",
   "mimetype": "text/x-python",
   "name": "python",
   "nbconvert_exporter": "python",
   "pygments_lexer": "ipython3",
   "version": "3.5.2"
  }
 },
 "nbformat": 4,
 "nbformat_minor": 0
}
